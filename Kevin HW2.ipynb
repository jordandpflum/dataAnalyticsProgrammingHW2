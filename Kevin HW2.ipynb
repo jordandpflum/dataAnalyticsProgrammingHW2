{
 "cells": [
  {
   "cell_type": "code",
   "execution_count": 4,
   "metadata": {},
   "outputs": [
    {
     "name": "stdout",
     "output_type": "stream",
     "text": [
      "Populating the interactive namespace from numpy and matplotlib\n"
     ]
    }
   ],
   "source": [
    "from pandas import Series, DataFrame\n",
    "import pandas as pd\n",
    "%pylab inline"
   ]
  },
  {
   "cell_type": "code",
   "execution_count": 8,
   "metadata": {},
   "outputs": [
    {
     "data": {
      "text/plain": [
       "Unnamed: 0                                                               0\n",
       "CAMIS                                                             30112340\n",
       "DBA                                                                WENDY'S\n",
       "BORO                                                              BROOKLYN\n",
       "BUILDING                                                               469\n",
       "STREET                                                     FLATBUSH AVENUE\n",
       "ZIPCODE                                                              11225\n",
       "PHONE                                                           7182875005\n",
       "CUISINE DESCRIPTION                                             Hamburgers\n",
       "INSPECTION DATE                                                 12/30/2014\n",
       "ACTION                     Violations were cited in the following area(s).\n",
       "VIOLATION CODE                                                         06C\n",
       "VIOLATION DESCRIPTION    Food not protected from potential source of co...\n",
       "CRITICAL FLAG                                                     Critical\n",
       "SCORE                                                                    8\n",
       "GRADE                                                                    A\n",
       "GRADE DATE                                                      12/30/2014\n",
       "RECORD DATE                                                     02/12/2015\n",
       "INSPECTION TYPE                           Cycle Inspection / Re-inspection\n",
       "Name: 0, dtype: object"
      ]
     },
     "execution_count": 8,
     "metadata": {},
     "output_type": "execute_result"
    }
   ],
   "source": [
    "df = pd.read_csv('NYC_Restaurants.csv', dtype=str)\n",
    "df.iloc[0]"
   ]
  },
  {
   "cell_type": "markdown",
   "metadata": {},
   "source": [
    "Question 1"
   ]
  },
  {
   "cell_type": "code",
   "execution_count": 11,
   "metadata": {
    "scrolled": true
   },
   "outputs": [
    {
     "data": {
      "text/plain": [
       "0           WENDY'S 469 FLATBUSH AVENUE 11225 BROOKLYN\n",
       "1           WENDY'S 469 FLATBUSH AVENUE 11225 BROOKLYN\n",
       "2           WENDY'S 469 FLATBUSH AVENUE 11225 BROOKLYN\n",
       "3           WENDY'S 469 FLATBUSH AVENUE 11225 BROOKLYN\n",
       "4           WENDY'S 469 FLATBUSH AVENUE 11225 BROOKLYN\n",
       "5        TOV KOSHER KITCHEN 97-22 63 ROAD 11374 QUEENS\n",
       "6        TOV KOSHER KITCHEN 97-22 63 ROAD 11374 QUEENS\n",
       "7        TOV KOSHER KITCHEN 97-22 63 ROAD 11374 QUEENS\n",
       "8        TOV KOSHER KITCHEN 97-22 63 ROAD 11374 QUEENS\n",
       "9    BRUNOS ON THE BOULEVARD 8825 ASTORIA BOULEVARD...\n",
       "Name: RESTAURANT, dtype: object"
      ]
     },
     "execution_count": 11,
     "metadata": {},
     "output_type": "execute_result"
    }
   ],
   "source": [
    "df['RESTAURANT'] = df[['DBA', 'BUILDING', 'STREET', 'ZIPCODE', 'BORO' ]].agg(' '.join, axis=1)\n",
    "df['RESTAURANT'][:10]"
   ]
  },
  {
   "cell_type": "markdown",
   "metadata": {},
   "source": [
    "Question 2"
   ]
  },
  {
   "cell_type": "code",
   "execution_count": 40,
   "metadata": {},
   "outputs": [
    {
     "data": {
      "text/plain": [
       "9639"
      ]
     },
     "execution_count": 40,
     "metadata": {},
     "output_type": "execute_result"
    }
   ],
   "source": [
    "df['ADDRESS'] = df[['BUILDING', 'STREET', 'ZIPCODE', 'BORO' ]].agg(' '.join, axis=1)\n",
    "len(df['ADDRESS'].drop_duplicates())"
   ]
  },
  {
   "cell_type": "markdown",
   "metadata": {},
   "source": [
    "Question 3"
   ]
  },
  {
   "cell_type": "code",
   "execution_count": 88,
   "metadata": {},
   "outputs": [
    {
     "data": {
      "text/plain": [
       "351"
      ]
     },
     "execution_count": 88,
     "metadata": {},
     "output_type": "execute_result"
    }
   ],
   "source": [
    "restaurant = df[['DBA','ADDRESS']].drop_duplicates(subset = 'ADDRESS')['DBA'].value_counts()\n",
    "len(restaurant[restaurant>1])"
   ]
  },
  {
   "cell_type": "markdown",
   "metadata": {},
   "source": [
    "Qestion 4"
   ]
  },
  {
   "cell_type": "code",
   "execution_count": 47,
   "metadata": {},
   "outputs": [
    {
     "data": {
      "text/plain": [
       "<matplotlib.axes._subplots.AxesSubplot at 0x1a7aa7e6e88>"
      ]
     },
     "execution_count": 47,
     "metadata": {},
     "output_type": "execute_result"
    },
    {
     "data": {
      "image/png": "[encoded data removed]",
      "text/plain": [
       "<Figure size 432x288 with 1 Axes>"
      ]
     },
     "metadata": {
      "needs_background": "light"
     },
     "output_type": "display_data"
    }
   ],
   "source": [
    "df[['DBA','ADDRESS']].drop_duplicates(subset = 'ADDRESS')['DBA'].value_counts()[:20].plot(kind='bar')"
   ]
  },
  {
   "cell_type": "code",
   "execution_count": 52,
   "metadata": {},
   "outputs": [
    {
     "data": {
      "text/plain": [
       "0.036414565826330535"
      ]
     },
     "execution_count": 52,
     "metadata": {},
     "output_type": "execute_result"
    }
   ],
   "source": [
    "len(restaurant[restaurant>1]) / len(df['ADDRESS'].drop_duplicates())"
   ]
  },
  {
   "cell_type": "code",
   "execution_count": 66,
   "metadata": {},
   "outputs": [
    {
     "data": {
      "text/html": [
       "<div>\n",
       "<style scoped>\n",
       "    .dataframe tbody tr th:only-of-type {\n",
       "        vertical-align: middle;\n",
       "    }\n",
       "\n",
       "    .dataframe tbody tr th {\n",
       "        vertical-align: top;\n",
       "    }\n",
       "\n",
       "    .dataframe thead th {\n",
       "        text-align: right;\n",
       "    }\n",
       "</style>\n",
       "<table border=\"1\" class=\"dataframe\">\n",
       "  <thead>\n",
       "    <tr style=\"text-align: right;\">\n",
       "      <th></th>\n",
       "      <th>DBA</th>\n",
       "      <th>BORO</th>\n",
       "    </tr>\n",
       "  </thead>\n",
       "  <tbody>\n",
       "    <tr>\n",
       "      <th>0</th>\n",
       "      <td>WENDY'S</td>\n",
       "      <td>BROOKLYN</td>\n",
       "    </tr>\n",
       "    <tr>\n",
       "      <th>5</th>\n",
       "      <td>TOV KOSHER KITCHEN</td>\n",
       "      <td>QUEENS</td>\n",
       "    </tr>\n",
       "    <tr>\n",
       "      <th>9</th>\n",
       "      <td>BRUNOS ON THE BOULEVARD</td>\n",
       "      <td>QUEENS</td>\n",
       "    </tr>\n",
       "    <tr>\n",
       "      <th>16</th>\n",
       "      <td>MAY MAY KITCHEN</td>\n",
       "      <td>BROOKLYN</td>\n",
       "    </tr>\n",
       "    <tr>\n",
       "      <th>22</th>\n",
       "      <td>SEUDA FOODS</td>\n",
       "      <td>BROOKLYN</td>\n",
       "    </tr>\n",
       "    <tr>\n",
       "      <th>...</th>\n",
       "      <td>...</td>\n",
       "      <td>...</td>\n",
       "    </tr>\n",
       "    <tr>\n",
       "      <th>44621</th>\n",
       "      <td>Andy's Cuisine Restaurant</td>\n",
       "      <td>BRONX</td>\n",
       "    </tr>\n",
       "    <tr>\n",
       "      <th>44622</th>\n",
       "      <td>YUMMY SZECHUAN HOUSE</td>\n",
       "      <td>QUEENS</td>\n",
       "    </tr>\n",
       "    <tr>\n",
       "      <th>44627</th>\n",
       "      <td>NEW WORLD FAST FOOD</td>\n",
       "      <td>QUEENS</td>\n",
       "    </tr>\n",
       "    <tr>\n",
       "      <th>44628</th>\n",
       "      <td>EARLY</td>\n",
       "      <td>BROOKLYN</td>\n",
       "    </tr>\n",
       "    <tr>\n",
       "      <th>44629</th>\n",
       "      <td>TESHIGOTOYA</td>\n",
       "      <td>MANHATTAN</td>\n",
       "    </tr>\n",
       "  </tbody>\n",
       "</table>\n",
       "<p>9639 rows × 2 columns</p>\n",
       "</div>"
      ],
      "text/plain": [
       "                             DBA       BORO\n",
       "0                        WENDY'S   BROOKLYN\n",
       "5             TOV KOSHER KITCHEN     QUEENS\n",
       "9        BRUNOS ON THE BOULEVARD     QUEENS\n",
       "16               MAY MAY KITCHEN   BROOKLYN\n",
       "22                   SEUDA FOODS   BROOKLYN\n",
       "...                          ...        ...\n",
       "44621  Andy's Cuisine Restaurant      BRONX\n",
       "44622       YUMMY SZECHUAN HOUSE     QUEENS\n",
       "44627        NEW WORLD FAST FOOD     QUEENS\n",
       "44628                      EARLY   BROOKLYN\n",
       "44629                TESHIGOTOYA  MANHATTAN\n",
       "\n",
       "[9639 rows x 2 columns]"
      ]
     },
     "execution_count": 66,
     "metadata": {},
     "output_type": "execute_result"
    }
   ],
   "source": [
    "mask = (df['BORO'] == 'missing')\n",
    "df.loc[mask, 'BORO'] = np.nan\n",
    "\n",
    "non_chain = df[['DBA','ADDRESS','BORO']].drop_duplicates(subset = 'ADDRESS')[['DBA','BORO']]\n",
    "non_chain"
   ]
  },
  {
   "cell_type": "code",
   "execution_count": null,
   "metadata": {},
   "outputs": [],
   "source": [
    "restaurant[restaurant==1]['boro']\n",
    "non_chain.loc[mask, 'BORO'] = np.nan     .value_counts()\n",
    "  "
   ]
  },
  {
   "cell_type": "code",
   "execution_count": null,
   "metadata": {},
   "outputs": [],
   "source": []
  }
 ],
 "metadata": {
  "kernelspec": {
   "display_name": "Python 3",
   "language": "python",
   "name": "python3"
  },
  "language_info": {
   "codemirror_mode": {
    "name": "ipython",
    "version": 3
   },
   "file_extension": ".py",
   "mimetype": "text/x-python",
   "name": "python",
   "nbconvert_exporter": "python",
   "pygments_lexer": "ipython3",
   "version": "3.7.6"
  }
 },
 "nbformat": 4,
 "nbformat_minor": 4
}
