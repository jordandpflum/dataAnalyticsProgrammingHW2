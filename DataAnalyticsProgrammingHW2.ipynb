{
 "cells": [
  {
   "cell_type": "markdown",
   "metadata": {},
   "source": [
    "Group Members: \n",
    "- Pflum, Jordan\n",
    "- Walton, Troy\n",
    "- Wang, Nai\n",
    "               \n",
    "Due Date: 07/29/2020"
   ]
  },
  {
   "cell_type": "markdown",
   "metadata": {},
   "source": [
    "# NYC Restraunts\n",
    "We will analyze restraurnt inspections in New York City, starting November 1, 2014 and ending January 31, 2015. The data is in the file NYC_Restaurants.csv\n",
    "\n",
    "**Setup:** First read in the data using\n",
    "* df = pd.read_csv('NYC_Restaurants.csv', dtype=str)\n",
    "\n",
    "This ensures that all fields are read in as strings, and loading the data is relatively fast."
   ]
  },
  {
   "cell_type": "code",
   "execution_count": 168,
   "metadata": {},
   "outputs": [
    {
     "name": "stdout",
     "output_type": "stream",
     "text": [
      "Populating the interactive namespace from numpy and matplotlib\n"
     ]
    },
    {
     "name": "stderr",
     "output_type": "stream",
     "text": [
      "c:\\users\\jorda\\appdata\\local\\programs\\python\\python38\\lib\\site-packages\\IPython\\core\\magics\\pylab.py:159: UserWarning: pylab import has clobbered these variables: ['table']\n",
      "`%matplotlib` prevents importing * from pylab and numpy\n",
      "  warn(\"pylab import has clobbered these variables: %s\"  % clobbered +\n"
     ]
    }
   ],
   "source": [
    "from pandas import Series, DataFrame\n",
    "import pandas as pd\n",
    "%pylab inline\n",
    "\n",
    "df = pd.read_csv('NYC_Restaurants.csv', dtype=str)"
   ]
  },
  {
   "cell_type": "markdown",
   "metadata": {},
   "source": [
    "## Q1 (6pts)\n",
    "Create a unique name for each restaurant. On the\n",
    "DataFrame created above, add a new column to your DataFrame, called\n",
    "'RESTAURANT', that combines DBA, BUILDING, STREET, ZIPCODE,\n",
    "and BORO fields. For example, \"WENDY'S 469 FLATBUSH AVENUE\n",
    "11225 BROOKLYN\". Print the first 10 values of the RESTAURANT column\n",
    "of your DataFrame."
   ]
  },
  {
   "cell_type": "code",
   "execution_count": 179,
   "metadata": {},
   "outputs": [
    {
     "name": "stdout",
     "output_type": "stream",
     "text": [
      "0           WENDY'S 469 FLATBUSH AVENUE 11225 BROOKLYN\n",
      "1           WENDY'S 469 FLATBUSH AVENUE 11225 BROOKLYN\n",
      "2           WENDY'S 469 FLATBUSH AVENUE 11225 BROOKLYN\n",
      "3           WENDY'S 469 FLATBUSH AVENUE 11225 BROOKLYN\n",
      "4           WENDY'S 469 FLATBUSH AVENUE 11225 BROOKLYN\n",
      "5        TOV KOSHER KITCHEN 97-22 63 ROAD 11374 QUEENS\n",
      "6        TOV KOSHER KITCHEN 97-22 63 ROAD 11374 QUEENS\n",
      "7        TOV KOSHER KITCHEN 97-22 63 ROAD 11374 QUEENS\n",
      "8        TOV KOSHER KITCHEN 97-22 63 ROAD 11374 QUEENS\n",
      "9    BRUNOS ON THE BOULEVARD 8825 ASTORIA BOULEVARD...\n",
      "Name: RESTAURANT, dtype: object\n"
     ]
    }
   ],
   "source": [
    "df['RESTAURANT'] = df['DBA'] + ' ' + df['BUILDING'] + ' ' + df[\"STREET\"] + ' ' + df[\"ZIPCODE\"] + ' ' + df[\"BORO\"]\n",
    "print(df['RESTAURANT'][:10])"
   ]
  },
  {
   "cell_type": "markdown",
   "metadata": {},
   "source": [
    "## Q2 (6pts)\n",
    "How many restaurants are included in the data? Careful now:\n",
    "* A \"Subway in one particular address (ie, building, street, zipcode, and boro) counts as one restaurant; don't combine all Subways into one restaurant!\n",
    "* The data can have multiple violations for the same restaurant!"
   ]
  },
  {
   "cell_type": "code",
   "execution_count": 180,
   "metadata": {},
   "outputs": [
    {
     "name": "stdout",
     "output_type": "stream",
     "text": [
      "10114\n"
     ]
    }
   ],
   "source": [
    "uniqueRestaurantsDF = df.drop_duplicates(subset='RESTAURANT')\n",
    "print(uniqueRestaurantsDF[\"RESTAURANT\"].size)"
   ]
  },
  {
   "cell_type": "markdown",
   "metadata": {},
   "source": [
    "## Q3 (6 pts)\n",
    "How many chains are there? Let us define a chain to be the same restaurant name occurring in at least two different (building, streeet, zipcode, boro) addresses (ie, one DBA with multiple restaurant locations). You'll see multiple versions of the name \"DUNKIN DONUTS\". Just act as if they are different chains."
   ]
  },
  {
   "cell_type": "code",
   "execution_count": 181,
   "metadata": {},
   "outputs": [
    {
     "name": "stdout",
     "output_type": "stream",
     "text": [
      "1666\n"
     ]
    }
   ],
   "source": [
    "# Get Unique Restaurants\n",
    "uniqueRestaurantsDF = df.drop_duplicates(subset='RESTAURANT')\n",
    "\n",
    "# Get Number of Restraunts per DBA name\n",
    "numRestaurantPerRestaurant = uniqueRestaurantsDF['DBA'].value_counts()\n",
    "\n",
    "# Keep only restraunts where their name occur more than once\n",
    "numRestaurantPerRestaurant_mask = (numRestaurantPerRestaurant > 1)\n",
    "chainRestaurants = numRestaurantPerRestaurant[numRestaurantPerRestaurant_mask]\n",
    "numChianRestaurants = chainRestaurants.sum()\n",
    "\n",
    "# Print number of chains\n",
    "print(numChianRestaurants)"
   ]
  },
  {
   "cell_type": "markdown",
   "metadata": {},
   "source": [
    "## Q4 (6pts)\n",
    "Plot a bar graph of the top 20 most popular chains. We already have the chains from the previous problem. Count the number of restaurants for each chain as a measure of its popularity."
   ]
  },
  {
   "cell_type": "code",
   "execution_count": 182,
   "metadata": {},
   "outputs": [
    {
     "data": {
      "text/plain": [
       "<matplotlib.axes._subplots.AxesSubplot at 0x24e846db190>"
      ]
     },
     "execution_count": 182,
     "metadata": {},
     "output_type": "execute_result"
    },
    {
     "data": {
      "image/png": "[encoded data removed]",
      "text/plain": [
       "<Figure size 432x288 with 1 Axes>"
      ]
     },
     "metadata": {
      "needs_background": "light"
     },
     "output_type": "display_data"
    }
   ],
   "source": [
    "top20Chains = chainRestaurants[:20]\n",
    "top20Chains.plot(kind='bar')"
   ]
  },
  {
   "cell_type": "markdown",
   "metadata": {},
   "source": [
    "## Q5 (6pts)\n",
    "What fraction of all restaurants are chain restaurants?"
   ]
  },
  {
   "cell_type": "code",
   "execution_count": 184,
   "metadata": {},
   "outputs": [
    {
     "data": {
      "text/plain": [
       "0.16472216729286138"
      ]
     },
     "execution_count": 184,
     "metadata": {},
     "output_type": "execute_result"
    }
   ],
   "source": [
    "# Calculate Total num of Restaurants\n",
    "numTotalRestaurants = numRestaurantPerRestaurant.sum()\n",
    "\n",
    "# Calculate Total num of Restaurants that are Chains\n",
    "numTotalChainRestraunts = chainRestaurants.sum()\n",
    "\n",
    "# Calculate Percent of Resaurants that are Chains\n",
    "percentChainRestraunts = numTotalChainRestraunts/numTotalRestaurants\n",
    "\n",
    "percentChainRestraunts\n",
    "#uniqueRestaurantsDF[mask_ChainRestaurant,].size"
   ]
  },
  {
   "cell_type": "markdown",
   "metadata": {},
   "source": [
    "Question: All restaurant Names or total restauants"
   ]
  },
  {
   "cell_type": "markdown",
   "metadata": {},
   "source": [
    "## Q6 (6pts)\n",
    "Plot the number of non-chain restaurants in each boro. First, we need to figure out all the non-chain restaurants, then select out only those restaurants, and finally plot the number of such restaurants by boro. Make sure to look at plot; we don't want to see...oh...the \"missing boro."
   ]
  },
  {
   "cell_type": "code",
   "execution_count": 185,
   "metadata": {},
   "outputs": [
    {
     "data": {
      "text/plain": [
       "<matplotlib.axes._subplots.AxesSubplot at 0x24e84b4dee0>"
      ]
     },
     "execution_count": 185,
     "metadata": {},
     "output_type": "execute_result"
    },
    {
     "data": {
      "image/png": "[encoded data removed]",
      "text/plain": [
       "<Figure size 432x288 with 1 Axes>"
      ]
     },
     "metadata": {
      "needs_background": "light"
     },
     "output_type": "display_data"
    }
   ],
   "source": [
    "# Data Cleansing\n",
    "# Remove Missing Borough Information\n",
    "mask = (df['BORO'] == 'Missing')\n",
    "df.loc[mask, 'BORO'] = np.nan # This sets the value to NaN\n",
    "\n",
    "# Get Unique Restaurants\n",
    "uniqueRestaurantsDF = df.drop_duplicates(subset='RESTAURANT')\n",
    "\n",
    "# Get Number of Restraunts per DBA name\n",
    "numRestaurantPerRestaurant = uniqueRestaurantsDF['DBA'].value_counts()\n",
    "\n",
    "# Keep only restraunts where their name occur only once (non-chains)\n",
    "numRestaurantPerRestaurant_mask = (numRestaurantPerRestaurant == 1)\n",
    "nonchainRestaurants = numRestaurantPerRestaurant[numRestaurantPerRestaurant_mask]\n",
    "nonchainRestaurantsList = nonchainRestaurants.index.tolist()\n",
    "\n",
    "# Adjust Original Dataframe\n",
    "mask = uniqueRestaurantsDF['DBA'].isin(nonchainRestaurantsList)\n",
    "nonChianRestaurants = uniqueRestaurantsDF[mask]\n",
    "\n",
    "numNonchainRestaurantsPerBoro = nonChianRestaurants['BORO'].value_counts()\n",
    "\n",
    "numNonchainRestaurantsPerBoro.plot(kind='bar')"
   ]
  },
  {
   "cell_type": "markdown",
   "metadata": {},
   "source": [
    "## Q7 (6pts)\n",
    "Plot the fraction of non-chain restaurants in each boro. The boro with the most non-chain restaurants might just be the boro with the most restaurants in general. If we want to find the boro that attracts the most \"independent\" restauranteurs, we must divide the number of non-chain restaurants by the total number of restaurants in the boro. Plot this.\n",
    "\n",
    "Is the boro with the most independent restaurants also the one with the highest ratio of independent restaurants?"
   ]
  },
  {
   "cell_type": "code",
   "execution_count": 186,
   "metadata": {},
   "outputs": [
    {
     "data": {
      "text/plain": [
       "<matplotlib.axes._subplots.AxesSubplot at 0x24e83f29520>"
      ]
     },
     "execution_count": 186,
     "metadata": {},
     "output_type": "execute_result"
    },
    {
     "data": {
      "image/png": "[encoded data removed]",
      "text/plain": [
       "<Figure size 432x288 with 1 Axes>"
      ]
     },
     "metadata": {
      "needs_background": "light"
     },
     "output_type": "display_data"
    }
   ],
   "source": [
    "# Get Unique Restaurants\n",
    "uniqueRestaurantsDF = df.drop_duplicates(subset='RESTAURANT')\n",
    "\n",
    "# Get Number of Restraunts per DBA name\n",
    "numRestaurantPerRestaurant = uniqueRestaurantsDF['DBA'].value_counts()\n",
    "\n",
    "# Non-Chains\n",
    "# Keep only restraunts where their name occur only once (non-chains)\n",
    "numRestaurantPerRestaurant_mask = (numRestaurantPerRestaurant == 1)\n",
    "nonchainRestaurants = numRestaurantPerRestaurant[numRestaurantPerRestaurant_mask]\n",
    "nonchainRestaurantsList = nonchainRestaurants.index.tolist()\n",
    "\n",
    "# Create Dataframe with only non-chain restaurants\n",
    "mask = uniqueRestaurantsDF['DBA'].isin(nonchainRestaurantsList)\n",
    "nonChianRestaurants = uniqueRestaurantsDF[mask]\n",
    "\n",
    "# Count number of non chain restaurants per boro\n",
    "numNonchainRestaurantsPerBoro = nonChianRestaurants['BORO'].value_counts()\n",
    "\n",
    "# Total Restaurants Per Boro\n",
    "restaurantsPerBoro = uniqueRestaurantsDF['BORO'].value_counts()\n",
    "\n",
    "nonChainRestaurantsPerBoroRatio = numNonchainRestaurantsPerBoro / restaurantsPerBoro\n",
    "\n",
    "nonChainRestaurantsPerBoroRatio.plot(kind='bar')"
   ]
  },
  {
   "cell_type": "markdown",
   "metadata": {},
   "source": [
    "The boro with the most independent restaurants (Manhattan) is not the boro with the highest ratio of independent restaurants (Brooklyn)"
   ]
  },
  {
   "cell_type": "markdown",
   "metadata": {},
   "source": [
    "## Q8 (6pts)\n",
    "Plot the popularity of cuisines. Which cuisines are the most well-represented among all restaurants? Define the popularity of a cuisine as the number of restaurants serving that cuisine. Plot the popularity of the top 20 cuisines."
   ]
  },
  {
   "cell_type": "code",
   "execution_count": 191,
   "metadata": {},
   "outputs": [
    {
     "data": {
      "text/plain": [
       "<matplotlib.axes._subplots.AxesSubplot at 0x24e81f69430>"
      ]
     },
     "execution_count": 191,
     "metadata": {},
     "output_type": "execute_result"
    },
    {
     "data": {
      "image/png": "[encoded data removed]",
      "text/plain": [
       "<Figure size 432x288 with 1 Axes>"
      ]
     },
     "metadata": {
      "needs_background": "light"
     },
     "output_type": "display_data"
    }
   ],
   "source": [
    "# Count of Restaurants by Cuisine\n",
    "cuisinePopularity = uniqueRestaurantsDF['CUISINE DESCRIPTION'].value_counts()\n",
    "\n",
    "# Plot top 20 cuisines\n",
    "top20Cuisines = cuisinePopularity[:20]\n",
    "top20Cuisines.plot(kind='bar')"
   ]
  },
  {
   "cell_type": "markdown",
   "metadata": {},
   "source": [
    "## Q9 (9pts)\n",
    "Plot the cuisines among restaurants which never got cited for violations. Ideally, you should explore and see what happens when there is no violation, but here I will just tell you: the 'VIOLATION CODE' field is missing.\n",
    "\n",
    "First, find the restaurants that were never cited for a code violation. Then compute the populartity of each cuisine among these \"clean\" restaurants. Plot the popularity of the top-20 among these cuisines."
   ]
  },
  {
   "cell_type": "code",
   "execution_count": 192,
   "metadata": {},
   "outputs": [
    {
     "data": {
      "text/plain": [
       "<matplotlib.axes._subplots.AxesSubplot at 0x24e81bb05e0>"
      ]
     },
     "execution_count": 192,
     "metadata": {},
     "output_type": "execute_result"
    },
    {
     "data": {
      "image/png": "[encoded data removed]",
      "text/plain": [
       "<Figure size 432x288 with 1 Axes>"
      ]
     },
     "metadata": {
      "needs_background": "light"
     },
     "output_type": "display_data"
    }
   ],
   "source": [
    "# Group by restaurant\n",
    "restaurantComplaintDF = pd.crosstab(df['RESTAURANT'], df['VIOLATION CODE'])\n",
    "restaurantsWithComplains = restaurantComplaintDF.index.tolist()\n",
    "\n",
    "# Keep only restaurants that have only nulls (totally clean restaurants)\n",
    "mask = ~df['RESTAURANT'].isin(restaurantsWithComplains)\n",
    "cleanRestaurants = df[mask]\n",
    "\n",
    "# Count Cuisines in Clean Restaurants\n",
    "cleanCuisinePopularity = cleanRestaurants['CUISINE DESCRIPTION'].value_counts()\n",
    "\n",
    "# Plot top 20 clean restaurants cuisines\n",
    "top20CleanRestaurantCuisines = cleanCuisinePopularity[:20]\n",
    "top20CleanRestaurantCuisines.plot(kind='bar')"
   ]
  },
  {
   "cell_type": "markdown",
   "metadata": {},
   "source": [
    "## Q10 (pts6)\n",
    "What cuisines tend to be the \"cleanest\"?\n",
    "* Select all cuisines for which there were at least 20 restaurants representing that cuisine.\n",
    "* For each such cuisine, compute the ratio of the counts in Q9 to Q8. This is the ratio of restaurants that never got cited, versus total number of restaurants, for each cuisine.\n",
    "* Find the top-10 cuisines with the highest ratios; these are those cuisines whose restaurants are \"most likely to be clean.\""
   ]
  },
  {
   "cell_type": "code",
   "execution_count": 193,
   "metadata": {},
   "outputs": [
    {
     "data": {
      "text/plain": [
       "<matplotlib.axes._subplots.AxesSubplot at 0x24e882498e0>"
      ]
     },
     "execution_count": 193,
     "metadata": {},
     "output_type": "execute_result"
    },
    {
     "data": {
      "image/png": "[encoded data removed]",
      "text/plain": [
       "<Figure size 432x288 with 1 Axes>"
      ]
     },
     "metadata": {
      "needs_background": "light"
     },
     "output_type": "display_data"
    }
   ],
   "source": [
    "## Total Resaurants per Cuisine ##\n",
    "# Get Unique Restaurants\n",
    "uniqueRestaurantsDF = df.drop_duplicates(subset='RESTAURANT')\n",
    "\n",
    "# Count of Restaurants by Cuisine\n",
    "cuisinePopularity = uniqueRestaurantsDF['CUISINE DESCRIPTION'].value_counts()\n",
    "\n",
    "# Keep only cuisines that appear 20 or more times\n",
    "numRestaurantPerRestaurant_mask = (cuisinePopularity >= 20)\n",
    "popularCuisineCounts = cuisinePopularity[numRestaurantPerRestaurant_mask]\n",
    "popularCuisineList = popularCuisineCounts.index.tolist()\n",
    "\n",
    "# Create Dataframe with only popular cuisines\n",
    "mask = uniqueRestaurantsDF['CUISINE DESCRIPTION'].isin(popularCuisineList)\n",
    "popularCuisineRestaurants = uniqueRestaurantsDF[mask]\n",
    "\n",
    "# Compute total restaurants for each cuisine\n",
    "totalRestaurantsPerCuisine = popularCuisineRestaurants['CUISINE DESCRIPTION'].value_counts()\n",
    "\n",
    "## Clean Restaurants per Cuisine ##\n",
    "# Group by restaurant\n",
    "restaurantComplaintDF = pd.crosstab(df['RESTAURANT'], df['VIOLATION CODE'])\n",
    "restaurantsWithComplains = restaurantComplaintDF.index.tolist()\n",
    "\n",
    "# Keep only restaurants that have only nulls (totally clean restaurants)\n",
    "mask = ~df['RESTAURANT'].isin(restaurantsWithComplains)\n",
    "cleanRestaurants = df[mask]\n",
    "\n",
    "# Count Cuisines in Clean Restaurants\n",
    "cleanCuisinePopularity = cleanRestaurants['CUISINE DESCRIPTION'].value_counts()\n",
    "\n",
    "## Ratio of Clean Restaurants per Cuisine to total restaurants per Cuisine ##\n",
    "# Compute Ratio of Clean Cuisines vs Total Cuisines\n",
    "cleanPopularCuisineRatio = cleanCuisinePopularity / totalRestaurantsPerCuisine\n",
    "\n",
    "# Drop NAs\n",
    "mask = cleanPopularCuisineRatio.notnull()\n",
    "cleanPopularCuisineRatio = cleanPopularCuisineRatio[mask]\n",
    "\n",
    "# Sort Values\n",
    "cleanPopularCuisineRatio = cleanPopularCuisineRatio.sort_values(ascending=False)\n",
    "\n",
    "# Plot Top 10 Cuisines with highest Ratio\n",
    "top20CuisineRatios = cleanPopularCuisineRatio[:10]\n",
    "top20CuisineRatios.plot(kind='bar')"
   ]
  },
  {
   "cell_type": "markdown",
   "metadata": {},
   "source": [
    "## Q11 (8pts)\n",
    "What are the most common violations in wach borough? Create a table of the number of times each violation description was observed in each borough, and figure out the most common violation description for each borough. \n",
    "\n",
    "To create the table, check out the crosstab function. We will see a more general version of this when we discuss groupby in class.\n",
    "\n",
    "One you do have the table, you will still need to find the most common violation description for each borough."
   ]
  },
  {
   "cell_type": "code",
   "execution_count": 194,
   "metadata": {},
   "outputs": [
    {
     "name": "stdout",
     "output_type": "stream",
     "text": [
      "BRONX: 10F, 500\n",
      "BROOKLYN: 10F, 1485\n",
      "MANHATTAN: 10F, 2417\n",
      "QUEENS: 10F, 1416\n",
      "STATEN ISLAND: 10F, 230\n"
     ]
    }
   ],
   "source": [
    "# Using Group By\n",
    "#violationPerBorough = uniqueRestaurantsDF.groupby('BORO')['VIOLATION CODE'].value_counts()\n",
    "\n",
    "# Using Crosstab\n",
    "violationPerBorough = pd.crosstab(df['BORO'], df['VIOLATION CODE'])\n",
    "\n",
    "# Print Out Top Violations per Borough\n",
    "for boro in violationPerBorough.index:\n",
    "    # Sort Violations for each Borough\n",
    "    violationSorted = violationPerBorough.loc[boro].sort_values(ascending=False)\n",
    "    print(str(str(boro) + ': ' + str(violationSorted.index[0]) + ', '+ str(violationSorted[0])))\n"
   ]
  },
  {
   "cell_type": "markdown",
   "metadata": {},
   "source": [
    "## Q12 (9pts)\n",
    "What are the most common violations per borough, after normalizing for the relative abundance of each violation? Hopefully, the answer to the previous question left you unsatisfied, because some violations are just very common, irrespective of borough. A better approach would be to normalize the violation counts, as follows.\n",
    "* Get overall frequencies: Figure out how common each violation is, over the entire dataset; lets call this violationFrequency.\n",
    "* Normalize: Consider the table of number of violations by boro that you created for the previous question. For each borough, divide the number of violations of each type by the total number of violations for that type; ie, divide the series of violations by violationFrequency. We want to do this for each borough.\n",
    "* Find the biggest violations: Now, after this normalization, for each borough, figure out the most common violation description."
   ]
  },
  {
   "cell_type": "code",
   "execution_count": 195,
   "metadata": {},
   "outputs": [
    {
     "name": "stdout",
     "output_type": "stream",
     "text": [
      "BRONX: 04I, 0.5\n",
      "BROOKLYN: 02D, 0.7142857142857143\n",
      "MANHATTAN: 03E, 1.0\n",
      "QUEENS: 05B, 1.0\n",
      "STATEN ISLAND: 03C, 0.09090909090909091\n"
     ]
    }
   ],
   "source": [
    "# Get Overall Frequencies\n",
    "violationFrequency = df['VIOLATION CODE'].value_counts()\n",
    "\n",
    "# Normalize\n",
    "\n",
    "# Print Out Top Violations per Borough\n",
    "for boro in violationPerBorough.index:\n",
    "    # Normalize Violations for each Borough\n",
    "    violationNormalized = violationPerBorough.loc[boro] / violationFrequency\n",
    "    \n",
    "    # Sort Violations\n",
    "    violationNormalizedSorted = violationNormalized.sort_values(ascending=False)\n",
    "    \n",
    "    print(str(str(boro) + ': ' + str(violationNormalizedSorted.index[0]) + ', '+ str(violationNormalizedSorted[0])))"
   ]
  },
  {
   "cell_type": "markdown",
   "metadata": {},
   "source": [
    "## Q13 (8pts)\n",
    "How many phone area codes correspond to a single zipcode? The first three digits of the restaurant phone numbers are their area codes. The area codes do not generally align with zip codes, but some area codes are only for a single zip code. You must figue out how many area codes have this property.\n",
    "* To extract the first 3 characters of the phone number, recall that strings are pretty similar to lists."
   ]
  },
  {
   "cell_type": "code",
   "execution_count": 196,
   "metadata": {},
   "outputs": [
    {
     "name": "stderr",
     "output_type": "stream",
     "text": [
      "c:\\users\\jorda\\appdata\\local\\programs\\python\\python38\\lib\\site-packages\\pandas\\core\\indexing.py:845: SettingWithCopyWarning: \n",
      "A value is trying to be set on a copy of a slice from a DataFrame.\n",
      "Try using .loc[row_indexer,col_indexer] = value instead\n",
      "\n",
      "See the caveats in the documentation: https://pandas.pydata.org/pandas-docs/stable/user_guide/indexing.html#returning-a-view-versus-a-copy\n",
      "  self.obj[key] = _infer_fill_value(value)\n",
      "c:\\users\\jorda\\appdata\\local\\programs\\python\\python38\\lib\\site-packages\\pandas\\core\\indexing.py:966: SettingWithCopyWarning: \n",
      "A value is trying to be set on a copy of a slice from a DataFrame.\n",
      "Try using .loc[row_indexer,col_indexer] = value instead\n",
      "\n",
      "See the caveats in the documentation: https://pandas.pydata.org/pandas-docs/stable/user_guide/indexing.html#returning-a-view-versus-a-copy\n",
      "  self.obj[item] = s\n"
     ]
    },
    {
     "data": {
      "text/plain": [
       "34"
      ]
     },
     "execution_count": 196,
     "metadata": {},
     "output_type": "execute_result"
    }
   ],
   "source": [
    "zipcodePhoneNumDF = df[[\"ZIPCODE\", \"PHONE\"]]\n",
    "\n",
    "#def areaCode(phoneNumber):\n",
    "#    return phoneNumber[0:2]\n",
    "\n",
    "zipcodePhoneNumDF.loc[:,'AREA CODE'] = zipcodePhoneNumDF[\"PHONE\"].str[0:3]\n",
    "\n",
    "zipCodesPerAreaCode = pd.crosstab(zipcodePhoneNumDF['AREA CODE'], zipcodePhoneNumDF['ZIPCODE'] , normalize='index')\n",
    "\n",
    "zipCodesPerAreaCode['max'] = zipCodesPerAreaCode.max(axis=1)\n",
    "\n",
    "zipCodesPerAreaCode = zipCodesPerAreaCode[zipCodesPerAreaCode['max']==1]\n",
    "len(zipCodesPerAreaCode.index)"
   ]
  },
  {
   "cell_type": "markdown",
   "metadata": {},
   "source": [
    "## Q14 (10pts)\n",
    "Find common misspellings of street names. Sometimes, it *Avenue*, and sometimes, its *Ave*. We will try to come up with an automated way to find common misspellings. The idea is the following: if *Ave* and *Avenue* are the same, they should show up often in similar-sounding street names, e.g., *Lexington Ave* and *Lexington Avenue*.\n",
    "* Create a new column, called STREET_TYPE, which is the last word in the name of the street. For example, if the street is *\"Astoria Boulevard\"*, the street type should be *\"Boulevard\"*.\n",
    "* Create another column, called STREET_BASE, which contains everything *but* the last word in the name of the street. For example, if the street is *\"Astoria Boulevard\"*, the street base should be *\"Astoria\"*.\n",
    "* Create a third column, called STREET_BASE_ZIP, that combines the street base and the zipcode.\n",
    "* Create a table containing just these three columns, and remove any duplicates or instances where street base is empty. This table now contains unique street names, along with the street type.\n",
    "* Merge this table with itself, on the STREEt_BASE_ZIP column. Thus, in the new merged tabled, we will have two STREET_TYPE fields for each street base and zipcode. For example, if both Lexington Ave and Lexington Avenue exist in the same zipcode, we will get a row for the street base Lexington and the two street types Ave and Avenue.\n",
    "* From the merged table, select only the rows where the street types are different.\n",
    "* Now, do a cross-tabulation of the two distinct street types (check out the crosstab function in Pandas). This gives us the number of times Ave and Avenue were used with the same STREET_BASE_ZIP.\n",
    "* From this cross-tabulation table, find the most commonly street type that occurs with each of the following: AVE, ST, RD, PL, BOULEARD, and BULEVARD."
   ]
  },
  {
   "cell_type": "code",
   "execution_count": 197,
   "metadata": {},
   "outputs": [
    {
     "name": "stdout",
     "output_type": "stream",
     "text": [
      "AVE: AVENUE\n",
      "ST: STREET\n",
      "RD: ROAD\n",
      "PL: PLACE\n",
      "BOULEARD: BLVD\n",
      "BULEVARD: BLVD\n"
     ]
    }
   ],
   "source": [
    "def getLastWord(row):\n",
    "    val = row.split()[-1]\n",
    "    return val\n",
    "\n",
    "def getBaseWords(row):\n",
    "    val = row.split()[:-1]\n",
    "    return ' '.join(val)\n",
    "\n",
    "df['STREET_TYPE'] = df['STREET'].map(getLastWord)\n",
    "df['STREET_BASE'] = df['STREET'].map(getBaseWords)\n",
    "df['STREET_BASE_ZIP'] = df[['STREET_BASE', 'ZIPCODE']].agg(' '.join, axis=1)\n",
    "\n",
    "table = df[['STREET_TYPE', 'STREET_BASE', 'STREET_BASE_ZIP']]\n",
    "# Check On Subsetting Duplicates\n",
    "table = table.drop_duplicates()\n",
    "table = table[table['STREET_BASE'].notna()]\n",
    "\n",
    "\n",
    "mergedTable = pd.merge(table, table, on=table['STREET_BASE_ZIP'])\n",
    "\n",
    "mergedTable = mergedTable.loc[mergedTable['STREET_TYPE_x'] != mergedTable['STREET_TYPE_y']]\n",
    "mergedTableCrossTab = pd.crosstab(mergedTable['STREET_TYPE_x'], mergedTable['STREET_TYPE_y'])\n",
    "\n",
    "types = ['AVE', 'ST', 'RD', 'PL', 'BOULEARD', 'BULEVARD']\n",
    "for t in types:\n",
    "    print(str(str(t) + ': ' + str(mergedTableCrossTab[t].idxmax())))"
   ]
  }
 ],
 "metadata": {
  "kernelspec": {
   "display_name": "Python 3",
   "language": "python",
   "name": "python3"
  },
  "language_info": {
   "codemirror_mode": {
    "name": "ipython",
    "version": 3
   },
   "file_extension": ".py",
   "mimetype": "text/x-python",
   "name": "python",
   "nbconvert_exporter": "python",
   "pygments_lexer": "ipython3",
   "version": "3.8.3"
  }
 },
 "nbformat": 4,
 "nbformat_minor": 4
}
